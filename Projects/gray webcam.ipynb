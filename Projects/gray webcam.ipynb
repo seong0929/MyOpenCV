{
 "cells": [
  {
   "cell_type": "code",
   "execution_count": null,
   "id": "eb83f88a",
   "metadata": {},
   "outputs": [],
   "source": [
    "import cv2\n",
    "import numpy as np\n",
    "\n",
    "def sketch(image):\n",
    "    img_gray = cv2.cvtColor(image,cv2.COLOR_BGR2GRAY) #이미지를 회색 이미지로 변환\n",
    "    img_gray_blur = cv2.GaussianBlur(img_gray,(5,5),0) #회색이미지에 Gaussion Blur 적용\n",
    "    canny_edges = cv2.Canny(img_gray_blur,10,70) #가우시안 이미지에 캐니 에지 감지 적용\n",
    "    ret,mask = cv2.threshold(canny_edges, 70,255,cv2.THRESH_BINARY_INV) #이미지 반전하고 이진 반전 이미지를 얻는다.\n",
    "    return mask\n",
    "\n",
    "cap = cv2.VideoCapture(0)  #웹캡에 접근\n",
    "while True:\n",
    "    ret,frame = cap.read()\n",
    "    cv2.imshow(\"Our Live Sketcher\", sketch(frame))\n",
    "    if cv2.waitKey(1) == 27: #esc키로 종료\n",
    "        break\n",
    "cap.release()\n",
    "cv2.destroyAllWindows()"
   ]
  }
 ],
 "metadata": {
  "kernelspec": {
   "display_name": "Python 3 (ipykernel)",
   "language": "python",
   "name": "python3"
  },
  "language_info": {
   "codemirror_mode": {
    "name": "ipython",
    "version": 3
   },
   "file_extension": ".py",
   "mimetype": "text/x-python",
   "name": "python",
   "nbconvert_exporter": "python",
   "pygments_lexer": "ipython3",
   "version": "3.9.15"
  }
 },
 "nbformat": 4,
 "nbformat_minor": 5
}
